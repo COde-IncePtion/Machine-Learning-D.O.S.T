{
 "cells": [
  {
   "cell_type": "code",
   "execution_count": 1,
   "metadata": {
    "collapsed": false,
    "scrolled": true
   },
   "outputs": [
    {
     "name": "stdout",
     "output_type": "stream",
     "text": [
      "importing Jupyter notebook from NetworkAnalysisCode.ipynb\n",
      "importing Jupyter notebook from NetworkAnalysisCode.ipynb\n"
     ]
    },
    {
     "data": {
      "text/plain": [
       "<module 'NetworkAnalysisCode' from 'NetworkAnalysisCode.ipynb'>"
      ]
     },
     "execution_count": 1,
     "metadata": {},
     "output_type": "execute_result"
    }
   ],
   "source": [
    "import nbimporter\n",
    "import pandas as pd\n",
    "import numpy as np\n",
    "import re\n",
    "import shutil\n",
    "import NetworkAnalysisCode as nac\n",
    "# from NetworkAnalysisCode import NetworkAnalysis\n",
    "# from NetworkAnalysisCode import Make_Graph\n",
    "reload(nac)"
   ]
  },
  {
   "cell_type": "code",
   "execution_count": 2,
   "metadata": {
    "collapsed": false
   },
   "outputs": [],
   "source": [
    "\n",
    "data=pd.read_csv(\"tweets.csv\",usecols=[\"username\",\"tweets\"])\n",
    "\n",
    "\n",
    "obj= nac.NetworkAnalysis()\n",
    "nodes,edges=obj.Extract_Username_And_Edges(data)\n"
   ]
  },
  {
   "cell_type": "code",
   "execution_count": 3,
   "metadata": {
    "collapsed": false
   },
   "outputs": [],
   "source": [
    "# for i in nodes:\n",
    "#     print i\n"
   ]
  },
  {
   "cell_type": "code",
   "execution_count": 4,
   "metadata": {
    "collapsed": false
   },
   "outputs": [],
   "source": [
    "# for i in edges:\n",
    "#     print i"
   ]
  },
  {
   "cell_type": "code",
   "execution_count": 8,
   "metadata": {
    "collapsed": false,
    "scrolled": false
   },
   "outputs": [],
   "source": [
    "Graph,UsernameMapping=obj.Make_Graph(nodes,edges)\n",
    "\n",
    "InverseUsernameMapping = {v: k for k, v in UsernameMapping.iteritems()}          \n",
    "\n",
    "obj.Languages_Used(np.array(data[\"tweets\"]))\n",
    "obj.Most_Active_Users(data)\n",
    "obj.Actual_And_Retweets(data)\n",
    "obj.Most_Mentioned_Users(Graph,InverseUsernameMapping)\n",
    "\n"
   ]
  }
 ],
 "metadata": {
  "anaconda-cloud": {},
  "kernelspec": {
   "display_name": "Python 2",
   "language": "python",
   "name": "python2"
  },
  "language_info": {
   "codemirror_mode": {
    "name": "ipython",
    "version": 2
   },
   "file_extension": ".py",
   "mimetype": "text/x-python",
   "name": "python",
   "nbconvert_exporter": "python",
   "pygments_lexer": "ipython2",
   "version": "2.7.13"
  }
 },
 "nbformat": 4,
 "nbformat_minor": 1
}
